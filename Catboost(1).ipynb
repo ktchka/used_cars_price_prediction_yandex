{
 "cells": [
  {
   "cell_type": "markdown",
   "id": "9e18557f",
   "metadata": {},
   "source": [
    "# Used car's price prediction\n",
    "**Задача** - разработать модель для предсказания стоимости продажи автомобиля на вторичном рынке.\n",
    "\n",
    "**Данные**\n",
    "- *train.csv* - информация о продажах (~440000) автомобилей с аукционов, которые будут использоваться в качестве обучающих данных.\n",
    "- *test.csv* - информация о продажах (~110000) автомобилей с аукционов, которые будут использоваться в качестве тестовых данных. Ваша задача - предсказать значение 'sellingprice' для каждого автомобиля из этого датасета.\n",
    "\n",
    "- *vin* - идентификатор каждого автомобиля в тестовом наборе.\n",
    "- *sellingprice* - Целевой признак. Для каждого автомобиля предскажите числовое значение стоимости автомобиля.\n",
    "\n",
    "**Описание полей данных**\n",
    "- 'year' - год производства\n",
    "- 'make' - производитель\n",
    "- 'model' - модель\n",
    "- 'trim' - модификация\n",
    "- 'body' - тип кузова\n",
    "- 'transmission' - тип КПП\n",
    "- 'vin' - идентификатор (вин)\n",
    "- 'state' - штат регистрации\n",
    "- 'condition' - состояние по шкале (1-5)\n",
    "- 'odometer' - пробег в милях\n",
    "- 'color' - цвет кузова\n",
    "- 'interior' - цвет интерьера\n",
    "- 'seller' - продавец\n",
    "- 'sellingprice' - стоимость продажи\n",
    "- 'saledate' - дата продажи\n",
    "\n",
    "**План работы:**\n",
    "1. загрузка и ознакомление с данными,\n",
    "2. подготовка данных,\n",
    "3. feature engineering and feature extrac_on\n",
    "4. обучение модели и формирование предсказаний,\n",
    "5. подготовка отсчета по исследованию."
   ]
  },
  {
   "cell_type": "code",
   "execution_count": 28,
   "id": "2471b98d",
   "metadata": {},
   "outputs": [],
   "source": [
    "import numpy as np\n",
    "import pandas as pd\n",
    "from matplotlib import pyplot as plt\n",
    "import seaborn as sns\n",
    "import catboost"
   ]
  },
  {
   "cell_type": "code",
   "execution_count": 29,
   "id": "76a14e87",
   "metadata": {},
   "outputs": [],
   "source": [
    "from catboost import CatBoostRegressor, Pool"
   ]
  },
  {
   "cell_type": "code",
   "execution_count": 30,
   "id": "ed0c1d0a",
   "metadata": {},
   "outputs": [],
   "source": [
    "df_train = pd.read_csv('train.csv.zip')\n",
    "df_test = pd.read_csv('test.csv.zip')"
   ]
  },
  {
   "cell_type": "code",
   "execution_count": 31,
   "id": "dbd9150c",
   "metadata": {},
   "outputs": [
    {
     "data": {
      "text/plain": [
       "Index(['year', 'make', 'model', 'trim', 'body', 'transmission', 'vin', 'state',\n",
       "       'condition', 'odometer', 'color', 'interior', 'seller', 'sellingprice',\n",
       "       'saledate'],\n",
       "      dtype='object')"
      ]
     },
     "execution_count": 31,
     "metadata": {},
     "output_type": "execute_result"
    }
   ],
   "source": [
    "df_train.columns"
   ]
  },
  {
   "cell_type": "markdown",
   "id": "90b8eb2f",
   "metadata": {},
   "source": [
    "Извлечем из даты день недели, месяц, год и день."
   ]
  },
  {
   "cell_type": "code",
   "execution_count": 32,
   "id": "3187f586",
   "metadata": {},
   "outputs": [],
   "source": [
    "df_train['day_of_week'] = df_train['saledate'].str[:3]\n",
    "df_test['day_of_week'] = df_test['saledate'].str[:3]"
   ]
  },
  {
   "cell_type": "code",
   "execution_count": 33,
   "id": "74a6bd1b",
   "metadata": {},
   "outputs": [],
   "source": [
    "df_train['month'] = df_train['saledate'].str[4:7]\n",
    "df_test['month'] = df_train['saledate'].str[4:7]\n"
   ]
  },
  {
   "cell_type": "code",
   "execution_count": 34,
   "id": "cb95a1cc",
   "metadata": {},
   "outputs": [],
   "source": [
    "df_train['day'] = df_train['saledate'].str[8:10]\n",
    "df_test['day'] = df_test['saledate'].str[8:10]\n",
    "\n"
   ]
  },
  {
   "cell_type": "code",
   "execution_count": 35,
   "id": "87b68b0d",
   "metadata": {},
   "outputs": [],
   "source": [
    "df_train['year_sold'] = df_train['saledate'].str[11:15]\n",
    "df_test['year_sold'] = df_test['saledate'].str[11:15]\n"
   ]
  },
  {
   "cell_type": "markdown",
   "id": "1748d09b",
   "metadata": {},
   "source": [
    "Заполним пропуски в категориальных значениях"
   ]
  },
  {
   "cell_type": "code",
   "execution_count": 36,
   "id": "85a7809c",
   "metadata": {},
   "outputs": [],
   "source": [
    "df_train['color'] = df_train['color'].fillna('—')\n",
    "df_train['interior'] = df_train['interior'].fillna('—')\n",
    "df_test['color'] = df_test['color'].fillna('—')\n",
    "df_test['interior'] = df_test['interior'].fillna('—')"
   ]
  },
  {
   "cell_type": "markdown",
   "id": "27e50484",
   "metadata": {},
   "source": [
    "Поменяем регистр значений, чтобы избавиться от неявных дублей"
   ]
  },
  {
   "cell_type": "code",
   "execution_count": 37,
   "id": "3724ab3c",
   "metadata": {},
   "outputs": [],
   "source": [
    "for col in ['make', 'model', 'trim', 'body', 'transmission', 'state', 'color', 'interior', 'seller']:\n",
    "    df_train[col] = df_train[col].str.upper()\n",
    "    df_test[col] = df_test[col].str.upper()"
   ]
  },
  {
   "cell_type": "code",
   "execution_count": 38,
   "id": "fbd14f1b",
   "metadata": {},
   "outputs": [],
   "source": [
    "train_cols = [\n",
    "    'year', \n",
    "    'make',\n",
    "    'model', \n",
    "    'trim', \n",
    "    'body', \n",
    "    'transmission',\n",
    "    'state', \n",
    "    'condition', \n",
    "    'odometer', \n",
    "    'color', \n",
    "    'interior', \n",
    "    'day',\n",
    "    'month',\n",
    "    'year_sold',\n",
    "    'day_of_week'\n",
    "    #'seller'\n",
    "]\n",
    "\n",
    "n_rows = len(df_train)\n",
    "val_fraction = 0.1\n",
    "traintrain_rows = n_rows * (1-val_fraction)\n",
    "\n",
    "X_train_all = df_train[train_cols]\n",
    "y_train_all = df_train['sellingprice']\n",
    "\n",
    "\n",
    "X_train_all_orig = X_train_all.copy()\n",
    "\n",
    "X_test = df_test[train_cols]"
   ]
  },
  {
   "cell_type": "markdown",
   "id": "e3e5a8fc",
   "metadata": {},
   "source": [
    "Меняем тип данных для обработки"
   ]
  },
  {
   "cell_type": "code",
   "execution_count": 39,
   "id": "552bbb72",
   "metadata": {
    "scrolled": true
   },
   "outputs": [
    {
     "name": "stdout",
     "output_type": "stream",
     "text": [
      "day\n",
      "body\n"
     ]
    },
    {
     "name": "stderr",
     "output_type": "stream",
     "text": [
      "/tmp/ipykernel_3298100/1183220046.py:9: SettingWithCopyWarning: \n",
      "A value is trying to be set on a copy of a slice from a DataFrame.\n",
      "Try using .loc[row_indexer,col_indexer] = value instead\n",
      "\n",
      "See the caveats in the documentation: https://pandas.pydata.org/pandas-docs/stable/user_guide/indexing.html#returning-a-view-versus-a-copy\n",
      "  X_train_all[col] = X_train_all[col].astype('string')\n",
      "/tmp/ipykernel_3298100/1183220046.py:10: SettingWithCopyWarning: \n",
      "A value is trying to be set on a copy of a slice from a DataFrame.\n",
      "Try using .loc[row_indexer,col_indexer] = value instead\n",
      "\n",
      "See the caveats in the documentation: https://pandas.pydata.org/pandas-docs/stable/user_guide/indexing.html#returning-a-view-versus-a-copy\n",
      "  X_test[col] = X_test[col].astype('string')\n",
      "/tmp/ipykernel_3298100/1183220046.py:12: SettingWithCopyWarning: \n",
      "A value is trying to be set on a copy of a slice from a DataFrame.\n",
      "Try using .loc[row_indexer,col_indexer] = value instead\n",
      "\n",
      "See the caveats in the documentation: https://pandas.pydata.org/pandas-docs/stable/user_guide/indexing.html#returning-a-view-versus-a-copy\n",
      "  X_train_all[col] = X_train_all[col].fillna(value='')\n",
      "/tmp/ipykernel_3298100/1183220046.py:13: SettingWithCopyWarning: \n",
      "A value is trying to be set on a copy of a slice from a DataFrame.\n",
      "Try using .loc[row_indexer,col_indexer] = value instead\n",
      "\n",
      "See the caveats in the documentation: https://pandas.pydata.org/pandas-docs/stable/user_guide/indexing.html#returning-a-view-versus-a-copy\n",
      "  X_test[col] = X_test[col].fillna(value='')\n"
     ]
    },
    {
     "name": "stdout",
     "output_type": "stream",
     "text": [
      "make\n",
      "state\n",
      "trim\n",
      "color\n",
      "month\n",
      "day_of_week\n",
      "interior\n",
      "model\n",
      "year_sold\n",
      "transmission\n",
      "year\n"
     ]
    }
   ],
   "source": [
    "nocat_cols = [\n",
    "    'odometer',\n",
    "    'condition'\n",
    "]\n",
    "\n",
    "cat_cols = set(train_cols) - set(nocat_cols)\n",
    "for col in cat_cols:\n",
    "    print(col)\n",
    "    X_train_all[col] = X_train_all[col].astype('string')\n",
    "    X_test[col] = X_test[col].astype('string')\n",
    "\n",
    "    X_train_all[col] = X_train_all[col].fillna(value='')\n",
    "    X_test[col] = X_test[col].fillna(value='')"
   ]
  },
  {
   "cell_type": "code",
   "execution_count": 40,
   "id": "a7bf30a4",
   "metadata": {},
   "outputs": [],
   "source": [
    "X_train = X_train_all.loc[:traintrain_rows]\n",
    "X_val = X_train_all.loc[traintrain_rows:]\n",
    "\n",
    "y_train = y_train_all.loc[:traintrain_rows]\n",
    "y_val = y_train_all.loc[traintrain_rows:]"
   ]
  },
  {
   "cell_type": "code",
   "execution_count": 41,
   "id": "6e124e23",
   "metadata": {},
   "outputs": [],
   "source": [
    "#X_train_s = X_train[:1000]\n",
    "#y_train_s = y_train[:1000]"
   ]
  },
  {
   "cell_type": "code",
   "execution_count": 42,
   "id": "62a6a32b",
   "metadata": {},
   "outputs": [],
   "source": [
    "train_all_cb = Pool(\n",
    "    X_train_all,\n",
    "    label=y_train_all,\n",
    "    cat_features=list(cat_cols)\n",
    ")\n",
    "\n",
    "train_cb = Pool(\n",
    "    X_train,\n",
    "    label=y_train,\n",
    "    cat_features=list(cat_cols)\n",
    ")\n",
    "\n",
    "val_cb = Pool(\n",
    "    X_val,\n",
    "    label=y_val,\n",
    "    cat_features=list(cat_cols)\n",
    ")\n",
    "\n",
    "test_cb = Pool(\n",
    "    X_test,\n",
    "    cat_features=list(cat_cols)\n",
    ")"
   ]
  },
  {
   "cell_type": "code",
   "execution_count": 52,
   "id": "8f00667e",
   "metadata": {},
   "outputs": [],
   "source": [
    "model = CatBoostRegressor(\n",
    "    iterations=500, \n",
    "    depth=16, \n",
    "    learning_rate=0.2,\n",
    "    loss_function='RMSE',\n",
    "    eval_metric='MAPE',\n",
    "    l2_leaf_reg=0.3,\n",
    ")"
   ]
  },
  {
   "cell_type": "code",
   "execution_count": null,
   "id": "a8e3391d",
   "metadata": {
    "scrolled": true
   },
   "outputs": [],
   "source": [
    "model.grid_search(\n",
    "    {\n",
    "        'learning_rate':[3e-2, 1e-1, 2e-1],\n",
    "        'depth':[8,9,10],\n",
    "        'l2_leaf_reg': [0.1, 0.3, 0.5],\n",
    "        #\"boosting_type\": [\"Ordered\", \"Plain\"],\n",
    "        #\"bootstrap_type\": [\"Bayesian\", \"Bernoulli\", \"MVS\"],\n",
    "        #border_count':[10,50,100,200]\n",
    "        \n",
    "    },\n",
    "    train_cb, \n",
    "    cv=5\n",
    ")"
   ]
  },
  {
   "cell_type": "code",
   "execution_count": 21,
   "id": "50f7da3a",
   "metadata": {},
   "outputs": [],
   "source": [
    "from sklearn.metrics import median_absolute_error, mean_absolute_percentage_error"
   ]
  },
  {
   "cell_type": "code",
   "execution_count": 54,
   "id": "561e7567",
   "metadata": {},
   "outputs": [
    {
     "name": "stdout",
     "output_type": "stream",
     "text": [
      "median error: 741.5499314786357\n",
      "mape: 0.17290601421750962\n"
     ]
    }
   ],
   "source": [
    "y_pred = model.predict(val_cb)\n",
    "median_error = median_absolute_error(y_pred, y_val)\n",
    "mape = mean_absolute_percentage_error(y_pred, y_val)\n",
    "print(f\"median error: {median_error}\")\n",
    "print(f\"mape: {mape}\")"
   ]
  },
  {
   "cell_type": "code",
   "execution_count": 51,
   "id": "075d8812",
   "metadata": {},
   "outputs": [],
   "source": [
    "res = df_test.copy()\n",
    "res['sellingprice'] = model.predict(test_cb)\n",
    "res_save = res[['vin', 'sellingprice']]\n",
    "res_save.to_csv('submission9.csv', index=False)"
   ]
  },
  {
   "cell_type": "markdown",
   "id": "3e7a038d",
   "metadata": {},
   "source": [
    "Trial 1 без предобработки данных:\n",
    "* median error: 890.6285973197455\n",
    "* mape: 0.22913660324591179\n",
    "\n",
    "BEst params:\n",
    "* iterations=150, \n",
    "* depth=10,\n",
    "* l2_leaf_reg=3,\n",
    "* learning_rate=0.5,\n",
    "* boosting_type='Plain',\n",
    "* bootstrap_type='MVS',\n",
    "* loss_function='RMSE',\n",
    "* eval_metric='MAPE'"
   ]
  },
  {
   "cell_type": "markdown",
   "id": "7dfe9cbe",
   "metadata": {},
   "source": [
    "Trial 2 с предобработкой (заполнение пропусков, разбиение дат):\n",
    "\n",
    "* mape: 18.48254\n",
    "\n",
    "Best params:\n",
    "* iterations=150, \n",
    "* depth=16, \n",
    "* learning_rate=0.2,\n",
    "* loss_function='RMSE',\n",
    "* eval_metric='MAPE',\n",
    "* l2_leaf_reg=0.3,\n",
    "\n"
   ]
  },
  {
   "cell_type": "markdown",
   "id": "5ac4ba7d",
   "metadata": {},
   "source": [
    "Trial 3 iterations = 300:\n",
    "* median error: 774.8727997496535\n",
    "* mape: 0.17006999101748338\n",
    "\n",
    "Best params:\n",
    "* 'depth': 10, \n",
    "* 'learning_rate': 0.2, \n",
    "* 'l2_leaf_reg': 0.1"
   ]
  },
  {
   "cell_type": "code",
   "execution_count": 55,
   "id": "fd5345e0",
   "metadata": {},
   "outputs": [
    {
     "data": {
      "text/plain": [
       "Text(0.5, 1.0, 'Feature Importance')"
      ]
     },
     "execution_count": 55,
     "metadata": {},
     "output_type": "execute_result"
    },
    {
     "data": {
      "image/png": "[encoded data removed]",
      "text/plain": [
       "<Figure size 1200x600 with 1 Axes>"
      ]
     },
     "metadata": {},
     "output_type": "display_data"
    }
   ],
   "source": [
    "\n",
    "feature_importance = model.feature_importances_\n",
    "sorted_idx = np.argsort(feature_importance)\n",
    "fig = plt.figure(figsize=(12, 6))\n",
    "plt.barh(range(len(sorted_idx)), feature_importance[sorted_idx], align='center')\n",
    "plt.yticks(range(len(sorted_idx)), np.array(X_test.columns)[sorted_idx])\n",
    "plt.title('Feature Importance')\n"
   ]
  },
  {
   "cell_type": "markdown",
   "id": "3b66c7ea",
   "metadata": {},
   "source": [
    "Самые важные фичи:\n",
    "* make\n",
    "* body\n",
    "* year\n",
    "* model\n",
    "* odometer\n",
    "\n",
    "Что можно посмотреть в будущем:\n",
    "* перебрать большее количество параметров с помощью optuna\n"
   ]
  },
  {
   "cell_type": "code",
   "execution_count": null,
   "id": "9a4ce677",
   "metadata": {},
   "outputs": [],
   "source": []
  }
 ],
 "metadata": {
  "kernelspec": {
   "display_name": "Python 3 (ipykernel)",
   "language": "python",
   "name": "python3"
  },
  "language_info": {
   "codemirror_mode": {
    "name": "ipython",
    "version": 3
   },
   "file_extension": ".py",
   "mimetype": "text/x-python",
   "name": "python",
   "nbconvert_exporter": "python",
   "pygments_lexer": "ipython3",
   "version": "3.10.6"
  }
 },
 "nbformat": 4,
 "nbformat_minor": 5
}
